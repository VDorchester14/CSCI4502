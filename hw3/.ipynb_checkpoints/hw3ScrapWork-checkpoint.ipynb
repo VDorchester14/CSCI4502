{
 "cells": [
  {
   "cell_type": "code",
   "execution_count": 2,
   "metadata": {
    "collapsed": true
   },
   "outputs": [],
   "source": [
    "import pandas as pd\n",
    "import numpy as np\n",
    "import itertools\n",
    "from apyori import apriori"
   ]
  },
  {
   "cell_type": "code",
   "execution_count": 3,
   "metadata": {
    "collapsed": true
   },
   "outputs": [],
   "source": [
    "t = {'T1':['cherry','milk','bread','pie'],\n",
    "     'T2':['cheese','milk','cherry','pie','bread'],\n",
    "     'T3':['cereal','milk','cheese','bread'],\n",
    "     'T4':['bread','milk','cereal','pie','cheese']}\n",
    "transactions = [\n",
    "    ['cherry','milk','bread','pie'],\n",
    "    ['cheese','milk','cherry','pie','bread'],\n",
    "    ['cereal','milk','cheese','bread'],\n",
    "    ['bread','milk','cereal','pie','cheese']\n",
    "]"
   ]
  },
  {
   "cell_type": "code",
   "execution_count": 4,
   "metadata": {},
   "outputs": [
    {
     "name": "stdout",
     "output_type": "stream",
     "text": [
      "{'cherry': 2, 'milk': 4, 'bread': 4, 'pie': 3, 'cheese': 3, 'cereal': 2}\n"
     ]
    }
   ],
   "source": [
    "item_counts = {}\n",
    "for tr in t:#iterate over transactions\n",
    "    for i in t[tr]:#and now through transactions\n",
    "        if(i not in item_counts):\n",
    "            item_counts[i]=1\n",
    "        elif(i in item_counts):\n",
    "            item_counts[i]+=1\n",
    "print(item_counts)"
   ]
  },
  {
   "cell_type": "code",
   "execution_count": 5,
   "metadata": {},
   "outputs": [
    {
     "name": "stdout",
     "output_type": "stream",
     "text": [
      "['cherry', 'milk', 'bread', 'pie', 'cheese', 'cereal']\n"
     ]
    }
   ],
   "source": [
    "items = []\n",
    "for i in item_counts:\n",
    "    items.append(i)\n",
    "print(items)"
   ]
  },
  {
   "cell_type": "code",
   "execution_count": 6,
   "metadata": {},
   "outputs": [
    {
     "name": "stdout",
     "output_type": "stream",
     "text": [
      "{'cereal', 'cherry', 'cheese', 'pie', 'milk', 'bread'}\n"
     ]
    }
   ],
   "source": [
    "sItems = set(items)\n",
    "print(sItems)"
   ]
  },
  {
   "cell_type": "code",
   "execution_count": 10,
   "metadata": {},
   "outputs": [
    {
     "name": "stdout",
     "output_type": "stream",
     "text": [
      "('cherry',)2\n",
      "('milk',)4\n",
      "('bread',)4\n",
      "('pie',)3\n",
      "('cheese',)3\n",
      "('cereal',)2\n",
      "('cherry', 'milk')2\n",
      "('cherry', 'bread')2\n",
      "('cherry', 'pie')2\n",
      "('cherry', 'cheese')1\n",
      "('cherry', 'cereal')0\n",
      "('milk', 'bread')4\n",
      "('milk', 'pie')3\n",
      "('milk', 'cheese')3\n",
      "('milk', 'cereal')2\n",
      "('bread', 'pie')3\n",
      "('bread', 'cheese')3\n",
      "('bread', 'cereal')2\n",
      "('pie', 'cheese')2\n",
      "('pie', 'cereal')1\n",
      "('cheese', 'cereal')2\n",
      "('cherry', 'milk', 'bread')2\n",
      "('cherry', 'milk', 'pie')2\n",
      "('cherry', 'milk', 'cheese')1\n",
      "('cherry', 'milk', 'cereal')0\n",
      "('cherry', 'bread', 'pie')2\n",
      "('cherry', 'bread', 'cheese')1\n",
      "('cherry', 'bread', 'cereal')0\n",
      "('cherry', 'pie', 'cheese')1\n",
      "('cherry', 'pie', 'cereal')0\n",
      "('cherry', 'cheese', 'cereal')0\n",
      "('milk', 'bread', 'pie')3\n",
      "('milk', 'bread', 'cheese')3\n",
      "('milk', 'bread', 'cereal')2\n",
      "('milk', 'pie', 'cheese')2\n",
      "('milk', 'pie', 'cereal')1\n",
      "('milk', 'cheese', 'cereal')2\n",
      "('bread', 'pie', 'cheese')2\n",
      "('bread', 'pie', 'cereal')1\n",
      "('bread', 'cheese', 'cereal')2\n",
      "('pie', 'cheese', 'cereal')1\n",
      "('cherry', 'milk', 'bread', 'pie')2\n",
      "('cherry', 'milk', 'bread', 'cheese')1\n",
      "('cherry', 'milk', 'bread', 'cereal')0\n",
      "('cherry', 'milk', 'pie', 'cheese')1\n",
      "('cherry', 'milk', 'pie', 'cereal')0\n",
      "('cherry', 'milk', 'cheese', 'cereal')0\n",
      "('cherry', 'bread', 'pie', 'cheese')1\n",
      "('cherry', 'bread', 'pie', 'cereal')0\n",
      "('cherry', 'bread', 'cheese', 'cereal')0\n",
      "('cherry', 'pie', 'cheese', 'cereal')0\n",
      "('milk', 'bread', 'pie', 'cheese')2\n",
      "('milk', 'bread', 'pie', 'cereal')1\n",
      "('milk', 'bread', 'cheese', 'cereal')2\n",
      "('milk', 'pie', 'cheese', 'cereal')1\n",
      "('bread', 'pie', 'cheese', 'cereal')1\n",
      "('cherry', 'milk', 'bread', 'pie', 'cheese')1\n",
      "('cherry', 'milk', 'bread', 'pie', 'cereal')0\n",
      "('cherry', 'milk', 'bread', 'cheese', 'cereal')0\n",
      "('cherry', 'milk', 'pie', 'cheese', 'cereal')0\n",
      "('cherry', 'bread', 'pie', 'cheese', 'cereal')0\n",
      "('milk', 'bread', 'pie', 'cheese', 'cereal')1\n",
      "('cherry', 'milk', 'bread', 'pie', 'cheese', 'cereal')0\n"
     ]
    }
   ],
   "source": [
    "for i in range(1, len(items)+1):\n",
    "    for s in itertools.combinations(items, i):\n",
    "        c = 0\n",
    "        for transaction in transactions:\n",
    "            if(set(s).issubset(transaction)):\n",
    "                c+=1\n",
    "        print(str(s)+str(c))\n",
    "                "
   ]
  },
  {
   "cell_type": "code",
   "execution_count": null,
   "metadata": {
    "collapsed": true
   },
   "outputs": [],
   "source": []
  }
 ],
 "metadata": {
  "kernelspec": {
   "display_name": "Python 3",
   "language": "python",
   "name": "python3"
  },
  "language_info": {
   "codemirror_mode": {
    "name": "ipython",
    "version": 3
   },
   "file_extension": ".py",
   "mimetype": "text/x-python",
   "name": "python",
   "nbconvert_exporter": "python",
   "pygments_lexer": "ipython3",
   "version": "3.6.3"
  }
 },
 "nbformat": 4,
 "nbformat_minor": 2
}
